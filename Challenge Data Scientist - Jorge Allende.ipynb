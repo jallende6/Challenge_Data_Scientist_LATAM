{
 "cells": [
  {
   "cell_type": "markdown",
   "id": "6efbf1ce-6ce8-4cfd-937d-c6021a3e3d9a",
   "metadata": {
    "tags": []
   },
   "source": [
    "# Data Scientist Challenge - LATAM Airlines\n",
    "\n",
    "### Postulante: Jorge Allende Medrano\n",
    "\n",
    "## Instructions\n",
    "- At Advanced Analytics we highly value teamwork and the constant interaction between the different roles that work in a\n",
    "data-based product, such as Data Scientists, Machine Learning Engineerings, and Data Engineers, to name a few. Our work is\n",
    "collaborative by nature, and for this reason we look after proper use of Git as an essential skill in our newest members. This\n",
    "challenge must be delivered through any git platform of your choice, with a small caveat: it must be public for us to see it and\n",
    "evaluate it.We are looking to understand how you developed your codebase, and how you improved it through time;\n",
    "additionally, if you have your own projects in this repository they will help us to better understand your experience based on\n",
    "your own previous work.\n",
    "Git Instructions:\n"
   ]
  },
  {
   "cell_type": "code",
   "execution_count": 1,
   "id": "956f099c-9cc2-4a36-bbef-c7c2af99d436",
   "metadata": {
    "tags": []
   },
   "outputs": [],
   "source": [
    "#En primera instancia, importare las librerías que utilizaré para desarrollar este desafío\n",
    "import pandas as pd\n",
    "import numpy as np\n",
    "from datetime import datetime, time\n",
    "import seaborn as sns\n",
    "import matplotlib.pyplot as plt\n",
    "import warnings\n",
    "from funciones import *\n",
    "warnings.filterwarnings(\"ignore\", category=FutureWarning)\n"
   ]
  },
  {
   "cell_type": "code",
   "execution_count": 2,
   "id": "678b0ded-6351-4744-bed7-c96f6cdb73d6",
   "metadata": {
    "tags": []
   },
   "outputs": [
    {
     "data": {
      "text/html": [
       "<div>\n",
       "<style scoped>\n",
       "    .dataframe tbody tr th:only-of-type {\n",
       "        vertical-align: middle;\n",
       "    }\n",
       "\n",
       "    .dataframe tbody tr th {\n",
       "        vertical-align: top;\n",
       "    }\n",
       "\n",
       "    .dataframe thead th {\n",
       "        text-align: right;\n",
       "    }\n",
       "</style>\n",
       "<table border=\"1\" class=\"dataframe\">\n",
       "  <thead>\n",
       "    <tr style=\"text-align: right;\">\n",
       "      <th></th>\n",
       "      <th>Fecha-I</th>\n",
       "      <th>Vlo-I</th>\n",
       "      <th>Ori-I</th>\n",
       "      <th>Des-I</th>\n",
       "      <th>Emp-I</th>\n",
       "      <th>Fecha-O</th>\n",
       "      <th>Vlo-O</th>\n",
       "      <th>Ori-O</th>\n",
       "      <th>Des-O</th>\n",
       "      <th>Emp-O</th>\n",
       "      <th>DIA</th>\n",
       "      <th>MES</th>\n",
       "      <th>AÑO</th>\n",
       "      <th>DIANOM</th>\n",
       "      <th>TIPOVUELO</th>\n",
       "      <th>OPERA</th>\n",
       "      <th>SIGLAORI</th>\n",
       "      <th>SIGLADES</th>\n",
       "    </tr>\n",
       "  </thead>\n",
       "  <tbody>\n",
       "    <tr>\n",
       "      <th>0</th>\n",
       "      <td>2017-01-01 23:30:00</td>\n",
       "      <td>226</td>\n",
       "      <td>SCEL</td>\n",
       "      <td>KMIA</td>\n",
       "      <td>AAL</td>\n",
       "      <td>2017-01-01 23:33:00</td>\n",
       "      <td>226</td>\n",
       "      <td>SCEL</td>\n",
       "      <td>KMIA</td>\n",
       "      <td>AAL</td>\n",
       "      <td>1</td>\n",
       "      <td>1</td>\n",
       "      <td>2017</td>\n",
       "      <td>Domingo</td>\n",
       "      <td>I</td>\n",
       "      <td>American Airlines</td>\n",
       "      <td>Santiago</td>\n",
       "      <td>Miami</td>\n",
       "    </tr>\n",
       "    <tr>\n",
       "      <th>1</th>\n",
       "      <td>2017-01-02 23:30:00</td>\n",
       "      <td>226</td>\n",
       "      <td>SCEL</td>\n",
       "      <td>KMIA</td>\n",
       "      <td>AAL</td>\n",
       "      <td>2017-01-02 23:39:00</td>\n",
       "      <td>226</td>\n",
       "      <td>SCEL</td>\n",
       "      <td>KMIA</td>\n",
       "      <td>AAL</td>\n",
       "      <td>2</td>\n",
       "      <td>1</td>\n",
       "      <td>2017</td>\n",
       "      <td>Lunes</td>\n",
       "      <td>I</td>\n",
       "      <td>American Airlines</td>\n",
       "      <td>Santiago</td>\n",
       "      <td>Miami</td>\n",
       "    </tr>\n",
       "    <tr>\n",
       "      <th>2</th>\n",
       "      <td>2017-01-03 23:30:00</td>\n",
       "      <td>226</td>\n",
       "      <td>SCEL</td>\n",
       "      <td>KMIA</td>\n",
       "      <td>AAL</td>\n",
       "      <td>2017-01-03 23:39:00</td>\n",
       "      <td>226</td>\n",
       "      <td>SCEL</td>\n",
       "      <td>KMIA</td>\n",
       "      <td>AAL</td>\n",
       "      <td>3</td>\n",
       "      <td>1</td>\n",
       "      <td>2017</td>\n",
       "      <td>Martes</td>\n",
       "      <td>I</td>\n",
       "      <td>American Airlines</td>\n",
       "      <td>Santiago</td>\n",
       "      <td>Miami</td>\n",
       "    </tr>\n",
       "    <tr>\n",
       "      <th>3</th>\n",
       "      <td>2017-01-04 23:30:00</td>\n",
       "      <td>226</td>\n",
       "      <td>SCEL</td>\n",
       "      <td>KMIA</td>\n",
       "      <td>AAL</td>\n",
       "      <td>2017-01-04 23:33:00</td>\n",
       "      <td>226</td>\n",
       "      <td>SCEL</td>\n",
       "      <td>KMIA</td>\n",
       "      <td>AAL</td>\n",
       "      <td>4</td>\n",
       "      <td>1</td>\n",
       "      <td>2017</td>\n",
       "      <td>Miercoles</td>\n",
       "      <td>I</td>\n",
       "      <td>American Airlines</td>\n",
       "      <td>Santiago</td>\n",
       "      <td>Miami</td>\n",
       "    </tr>\n",
       "    <tr>\n",
       "      <th>4</th>\n",
       "      <td>2017-01-05 23:30:00</td>\n",
       "      <td>226</td>\n",
       "      <td>SCEL</td>\n",
       "      <td>KMIA</td>\n",
       "      <td>AAL</td>\n",
       "      <td>2017-01-05 23:28:00</td>\n",
       "      <td>226</td>\n",
       "      <td>SCEL</td>\n",
       "      <td>KMIA</td>\n",
       "      <td>AAL</td>\n",
       "      <td>5</td>\n",
       "      <td>1</td>\n",
       "      <td>2017</td>\n",
       "      <td>Jueves</td>\n",
       "      <td>I</td>\n",
       "      <td>American Airlines</td>\n",
       "      <td>Santiago</td>\n",
       "      <td>Miami</td>\n",
       "    </tr>\n",
       "  </tbody>\n",
       "</table>\n",
       "</div>"
      ],
      "text/plain": [
       "               Fecha-I Vlo-I Ori-I Des-I Emp-I              Fecha-O Vlo-O  \\\n",
       "0  2017-01-01 23:30:00   226  SCEL  KMIA   AAL  2017-01-01 23:33:00   226   \n",
       "1  2017-01-02 23:30:00   226  SCEL  KMIA   AAL  2017-01-02 23:39:00   226   \n",
       "2  2017-01-03 23:30:00   226  SCEL  KMIA   AAL  2017-01-03 23:39:00   226   \n",
       "3  2017-01-04 23:30:00   226  SCEL  KMIA   AAL  2017-01-04 23:33:00   226   \n",
       "4  2017-01-05 23:30:00   226  SCEL  KMIA   AAL  2017-01-05 23:28:00   226   \n",
       "\n",
       "  Ori-O Des-O Emp-O  DIA  MES   AÑO     DIANOM TIPOVUELO              OPERA  \\\n",
       "0  SCEL  KMIA   AAL    1    1  2017    Domingo         I  American Airlines   \n",
       "1  SCEL  KMIA   AAL    2    1  2017      Lunes         I  American Airlines   \n",
       "2  SCEL  KMIA   AAL    3    1  2017     Martes         I  American Airlines   \n",
       "3  SCEL  KMIA   AAL    4    1  2017  Miercoles         I  American Airlines   \n",
       "4  SCEL  KMIA   AAL    5    1  2017     Jueves         I  American Airlines   \n",
       "\n",
       "   SIGLAORI SIGLADES  \n",
       "0  Santiago    Miami  \n",
       "1  Santiago    Miami  \n",
       "2  Santiago    Miami  \n",
       "3  Santiago    Miami  \n",
       "4  Santiago    Miami  "
      ]
     },
     "execution_count": 2,
     "metadata": {},
     "output_type": "execute_result"
    }
   ],
   "source": [
    "#Se crea un dataframe con el archivo en cuestión y se revisa el estado (df.head()).\n",
    "df= pd.read_csv(r'C:\\Users\\4615018\\Desktop\\Latam\\desaf\\Challenge_Data_Scientist_LATAM\\dataset_SCL.csv', low_memory=False)\n",
    "df.head()"
   ]
  },
  {
   "cell_type": "markdown",
   "id": "fa3b120d-0d99-4e96-ad23-272613acb0e4",
   "metadata": {},
   "source": [
    "### Variables\n",
    "\n",
    "- Fecha-I: Scheduled date and time of the flight.\n",
    "- Vlo-I : Scheduled flight number.\n",
    "- Ori-I : Programmed origin city code.\n",
    "- Des-I : Programmed destination city code.\n",
    "- Emp-I : Scheduled flight airline code.\n",
    "- Fecha-O : Date and time of flight operation.\n",
    "- Vlo-O : Flight operation number of the flight.\n",
    "- Ori-O : Operation origin city code\n",
    "- Des-O : Operation destination city code.\n",
    "- Emp-O : Airline code of the operated flight.\n",
    "- DIA: Day of the month of flight operation.\n",
    "- MES : Number of the month of operation of the flight.\n",
    "- AÑO : Year of flight operation.\n",
    "- DIANOM : Day of the week of flight operation.\n",
    "- TIPOVUELO : Type of flight, I =International, N =National.\n",
    "- OPERA : Name of the airline that operates.\n",
    "- SIGLAORI: Name city of origin.\n",
    "- SIGLADES: Destination city name."
   ]
  },
  {
   "cell_type": "code",
   "execution_count": 3,
   "id": "7c46957f-b937-40d4-9dd7-0f9eb6fbc1f4",
   "metadata": {
    "tags": []
   },
   "outputs": [
    {
     "name": "stdout",
     "output_type": "stream",
     "text": [
      "Fecha-I      0\n",
      "Vlo-I        0\n",
      "Ori-I        0\n",
      "Des-I        0\n",
      "Emp-I        0\n",
      "Fecha-O      0\n",
      "Vlo-O        1\n",
      "Ori-O        0\n",
      "Des-O        0\n",
      "Emp-O        0\n",
      "DIA          0\n",
      "MES          0\n",
      "AÑO          0\n",
      "DIANOM       0\n",
      "TIPOVUELO    0\n",
      "OPERA        0\n",
      "SIGLAORI     0\n",
      "SIGLADES     0\n",
      "dtype: int64\n"
     ]
    }
   ],
   "source": [
    "#Se revisa la existencia de valores NaN en nuestro set datos.\n",
    "val_nan = df.isna().sum()\n",
    "print(val_nan)\n"
   ]
  },
  {
   "cell_type": "code",
   "execution_count": null,
   "id": "6a84bee1-b553-40b7-9e87-69502126fc42",
   "metadata": {
    "tags": []
   },
   "outputs": [],
   "source": [
    "#Se procede a eliminar aquellas rows donde se encuentran valores vacíos (solo 1).\n",
    "df2 = df.dropna(axis=0)\n",
    "df2.head()\n"
   ]
  },
  {
   "cell_type": "code",
   "execution_count": null,
   "id": "a5545671-798a-417d-91b8-5c7e9691f626",
   "metadata": {
    "tags": []
   },
   "outputs": [],
   "source": [
    "#Observaremos los tipos de datos que tenemos en nuestro dataframe.\n",
    "df.dtypes"
   ]
  },
  {
   "cell_type": "code",
   "execution_count": null,
   "id": "244c7a70-e456-409d-85dd-cc51972a7259",
   "metadata": {
    "tags": []
   },
   "outputs": [],
   "source": [
    "#Revisamos el tamaño de nuestro dataset tanto de la cantidad de rows como columnas.\n",
    "df2.shape"
   ]
  },
  {
   "cell_type": "code",
   "execution_count": null,
   "id": "4d039825-f879-41b4-8e2d-c7c724f947e9",
   "metadata": {
    "tags": []
   },
   "outputs": [],
   "source": [
    "#Crearé 3 listas con variables de origin city code, departure city code y flight airline code con la intención de entender si existen variables que me esten entregando la misma info.\n",
    "origen = ['Ori-I','Ori-O','SIGLAORI']\n",
    "des = ['Des-I','Des-O','SIGLADES']\n",
    "emp = ['Emp-O','Emp-I','OPERA']\n"
   ]
  },
  {
   "cell_type": "code",
   "execution_count": null,
   "id": "2fdd20ec-dc25-49e1-a755-2c2acb7dd3bf",
   "metadata": {
    "tags": []
   },
   "outputs": [],
   "source": [
    "#Se aplicará una función para conocer la distribución porcentual las variables de la lista origen\n",
    "distribucion_porcentual(df2,origen)"
   ]
  },
  {
   "cell_type": "code",
   "execution_count": null,
   "id": "6ac06144-b67c-4a74-84d5-c109b3170638",
   "metadata": {
    "tags": []
   },
   "outputs": [],
   "source": [
    "#Se aplicará una función para conocer la distribución porcentual las variables de la lista des\n",
    "distribucion_porcentual(df2,des)"
   ]
  },
  {
   "cell_type": "code",
   "execution_count": null,
   "id": "2eb94034-5e5b-4cff-9186-572a510a2813",
   "metadata": {
    "tags": []
   },
   "outputs": [],
   "source": [
    "#Podemos observar que tenemos un dato más en la variable Des-I, SARI, que solo esta presente una vez. Se anilazará quitarla. \n",
    "ld = (df2['Des-I'] != df2['Des-O']).sum()\n",
    "\n",
    "print(f\"Hay {ld} líneas distintas entre las columnas Des-I y Des-O.\")     "
   ]
  },
  {
   "cell_type": "code",
   "execution_count": null,
   "id": "63cc2083-0149-45cc-9d89-e7e5479985d7",
   "metadata": {
    "tags": []
   },
   "outputs": [],
   "source": [
    "#Se aplicará una función para conocer la distribución porcentual las variables de la lista emp\n",
    "distribucion_porcentual(df2,emp)"
   ]
  },
  {
   "cell_type": "code",
   "execution_count": null,
   "id": "df89844c-6a6a-4f03-bd19-f95fb7ee9cb9",
   "metadata": {
    "tags": []
   },
   "outputs": [],
   "source": [
    "#Crearé una lista de variables categoricas para graficar su distribución.\n",
    "variables = ['DIANOM','DIA','MES','AÑO','TIPOVUELO','OPERA','SIGLADES','Des-I','Des-O','SIGLAORI','Emp-O','Emp-I','Vlo-I','Vlo-O']\n",
    "#En primera instancia no se pudo graficar la variable 'Vlo-O' por lo que se analizará en particular\n",
    "df2['Vlo-O'].unique()\n",
    "#Se observa que tenemos 2 tipos de datos '940' y '582.0', se dejará como la primera de estas.\n",
    "df2['Vlo-O'] = df['Vlo-O'].str.replace(r'\\.0$', '')"
   ]
  },
  {
   "cell_type": "code",
   "execution_count": null,
   "id": "4d3211a9-f22f-4214-b24e-256236fb2c40",
   "metadata": {
    "tags": []
   },
   "outputs": [],
   "source": [
    "countplot(df2,variables,20,35)"
   ]
  },
  {
   "cell_type": "code",
   "execution_count": null,
   "id": "b8a6ffb7-2a73-478a-a522-c04c6ad98aed",
   "metadata": {
    "tags": []
   },
   "outputs": [],
   "source": [
    "#Se observa, que existen dos lineas que indican que el vuelo es año 2018, podría existir la posibilidad de eliminarlas.\n",
    "df2[df2['AÑO']==2018]"
   ]
  },
  {
   "cell_type": "code",
   "execution_count": null,
   "id": "8a36ed19-c571-4229-94af-0c72042ada79",
   "metadata": {
    "tags": []
   },
   "outputs": [],
   "source": [
    "#Comparativa porcentual mercado nacional vs internacional\n",
    "distribucion_porcentual(df2,['TIPOVUELO'])"
   ]
  },
  {
   "cell_type": "code",
   "execution_count": null,
   "id": "012ca597-d666-4763-8c4a-87e8f80d674f",
   "metadata": {
    "tags": []
   },
   "outputs": [],
   "source": [
    "des = df2[df2['SIGLADES'] == 'Buenos Aires']\n",
    "des['Des-I'].value_counts('%')"
   ]
  },
  {
   "cell_type": "markdown",
   "id": "cd2ebb25-d551-4647-859c-e6b20969bd4b",
   "metadata": {
    "tags": []
   },
   "source": [
    "## I) Analisis de datos base\n",
    "\n",
    "- En primera instancia, podemos observar que las variables origin city code, es decir, 'Ori-I','Ori-O','SIGLAORI' son exactamente iguales, por lo que, en terminos de modelación se trabajará solo con una de las tres. De la misma forma, este caso casi se replica para las variables 'Des-O', 'Des-I', ya que, hay solo 28 líneas distintas entre las columnas Des-I y Des-O y además, esta última cuenta con un dato unico más, SARI, que está presente solo 1 vez en todo el set de datos.\n",
    "\n",
    "- Con respecto las variables de tiempo, es decir, mes, año, día de la semana, día del mes tenemos los siguiente insights:\n",
    "    - Existe un compartimiento de operacion de vuelo similar en los días de la semana a excepción de una baja notoria durante el día sabado.\n",
    "    - Se observa una disminución de la operacion de vuelo para los últimos días del mes, es decir, 29, 30 y 31. Este ultimo puede explicarse porque no todos los meses tienen 31.\n",
    "    - Existe un aumento en la operación de vuelo en los meses de julio y agosto. De la misma forma, a contar del mes de octubre en adelante comienzan a incrementar esos mismos, bajando levemente en enero.\n",
    "    - Será interesante observar eliminar 2 datos asociados al año 2018, ya que, no son representativos a la cantidad de data.  \n",
    "    \n",
    "- Con respecto a las operaciones de vuelo llevadas a cabo tenemos los siguiente observaciones:\n",
    "    - Podemos observar que el mercado de vuelo se distribuye relativamente similar con respecto a operaciones de vuelo nacionales (54%) e internacionales (46%).\n",
    "    - Las ciudades internacionales con mayor operacion de vuelo son Buenos Aires, Lima y Sao Paulo.\n",
    "    - Las ciudades nacionales con mayor operacion de vuelo son Antofagasta, Calama y Concepción.\n",
    "    - Todos los vuelos salen del mismo y unico origen, Santiago de Chile. En adición, se puede observar que el grupo LATAM opera el 60% de los vuelos, seguido por Sky Airline con un 21%."
   ]
  },
  {
   "cell_type": "markdown",
   "id": "971a4537-428a-40f8-b1f9-385ca0195e1e",
   "metadata": {},
   "source": [
    "## II) Creación de variables binarias"
   ]
  },
  {
   "cell_type": "code",
   "execution_count": null,
   "id": "0d8efea6-7db2-4f4f-addc-9c2c8fc6d452",
   "metadata": {
    "tags": []
   },
   "outputs": [],
   "source": [
    "#Hacemos una copia del dataframe en el que estamos trabajando para cambiar el formato de fecha\n",
    "df3 = df2.copy()\n",
    "df3['Fecha-I'] = pd.to_datetime(df3['Fecha-I'])\n",
    "df3['Fecha-O'] = pd.to_datetime(df3['Fecha-O'])\n"
   ]
  },
  {
   "cell_type": "code",
   "execution_count": null,
   "id": "7db654eb-5e1e-4ce5-8e1e-ada06802c388",
   "metadata": {
    "tags": []
   },
   "outputs": [],
   "source": [
    "#En este espacio se crearán las variables dummies\n",
    "\n",
    "#Validador de temporada alta, la función se encuentra en el archivo funciones.py al igual que todas.\n",
    "df3['high_season'] = df3['Fecha-I'].apply(validador_high_season)\n",
    "\n",
    "#Variable entrega los minutos de diferencia entre la fecha de operacion de vuelo vs la agendada.\n",
    "morning_i = time(5,0,0)\n",
    "afternoon_i = time(12,0,0)\n",
    "night_i = time(19,0,0)\n",
    "\n",
    "df3['min_diff'] = (df3['Fecha-O'] - df3['Fecha-I']).dt.total_seconds() / 60\n",
    "\n",
    "#Esta variable busca conocer si es que los minutos entre la operacion de vuelo y la agendada es mayor a 15 minutos.\n",
    "\n",
    "df3['delay_15'] = np.where((df3['min_diff'] > 15),1,0)\n",
    "\n",
    "#Esta variable me indica los periodos del día donde está operando un vuelo.\n",
    "\n",
    "condiciones = [(df3['Fecha-O'].dt.time >= morning_i ) & (df3['Fecha-O'].dt.time < afternoon_i),(df3['Fecha-O'].dt.time >= afternoon_i  ) & (df3['Fecha-O'].dt.time < night_i)]\n",
    "\n",
    "intervalos_period_day = ['morning', 'afternoon']\n",
    "\n",
    "df3['period_day'] = np.select(condiciones, intervalos_period_day, default = 'night')\n",
    "\n",
    "#Volvemos a graficar para conocer el estado de nuestras nuevas variables.\n",
    "var_bin = ['delay_15','high_season','period_day']\n",
    "\n",
    "#Se graficarán las nuevas variables.\n",
    "countplot(df3,var_bin,10,8)\n",
    "\n",
    "\n"
   ]
  },
  {
   "cell_type": "code",
   "execution_count": null,
   "id": "b8cfe142-1a02-4560-8dbe-3c3fecbf5165",
   "metadata": {
    "tags": []
   },
   "outputs": [],
   "source": [
    "#distribución porcentual de las variables en cuestión.\n",
    "distribucion_porcentual(df3,var_bin)"
   ]
  },
  {
   "cell_type": "markdown",
   "id": "88b12e4d-8875-4543-af5b-60a9fc2aa232",
   "metadata": {
    "tags": []
   },
   "source": [
    "## III) Creación de variables categoricas."
   ]
  },
  {
   "cell_type": "markdown",
   "id": "e1e29dee-0617-4a5c-89bf-a984493924e3",
   "metadata": {
    "tags": []
   },
   "source": [
    "- Se puede inferir que nuestra variable objetivo es delay_15, la cual está fuertemente desbalanceada, es decir, el porcentaje de distribución es de 81% cuando la la diferencia entre la hora de operación de vuelo y la agendada es menor a 15 minutos.\n",
    "- El procentaje de vuelos en temporada baja cubre el 66% de la operación de vuelo. Sin embargo, el porcenta de tiempo del cual está habilitada la temporada alta es bastante más bajo.\n",
    "- La operacion de vuelo se genera principalmente de tarde y de mañana con un 37% y 36% respectivamente."
   ]
  },
  {
   "cell_type": "code",
   "execution_count": null,
   "id": "7447d689-7bcc-4cc5-a399-2d537831467a",
   "metadata": {
    "tags": []
   },
   "outputs": [],
   "source": [
    "col = ['DIANOM','MES','TIPOVUELO','OPERA','SIGLADES','high_season']\n",
    "countplot(df3,col,20,15,'delay_15')"
   ]
  },
  {
   "cell_type": "markdown",
   "id": "596e602c-b2cd-4ff7-82fe-125ffc7763a3",
   "metadata": {
    "tags": []
   },
   "source": [
    "- En cuanto a las variables predictoras, se puede observar en las graficas los siguientes insights:\n",
    "    - Los meses que existe temporada alta, se ve una clara presencia de delay. Julio (07) es el ejemplo grafica \"Countplot de MES\".\n",
    "    - Sumado al punto anterior, se puede observar que cuando un vuelo es de caracter internacional, tiene una mayor probabilidad de tener delay, en la grafica \"Countplot de SIGLADES\", las ciudades de Buenas Aires, Lima y Sao Paulo ejemplifican lo señalado.\n",
    "    - La tendencia de delay en temporada alta se enmarca bastante, según muestra el gráfico \"Countplot de high_season\".\n",
    "    - Será importante evaluar la composición de la variable en la que se basa nuestro vector objetivo, es decir, 'min_diff' que contiene los minutos entre lo agendado para la operacion de vuelo y la operacion de vuelo.\n",
    "    \n",
    "- En resumen, se puede observar que el tipo de vuelo, la temporada y los meses son las variables que más pueden explicar un delay en una operación de vuelo.sns.boxplot(data=tips, x=\"day\", y=\"total_bill\")"
   ]
  },
  {
   "cell_type": "code",
   "execution_count": null,
   "id": "7b6697c8-2d2c-45e4-9352-a893b9f33ae2",
   "metadata": {
    "tags": []
   },
   "outputs": [],
   "source": [
    "#análisis de la variable 'min_diff', cuando los minutos son menores o igual a cero y mayores a cero.\n",
    "\n",
    "#filtro de dataframe menor o igual a 0 con respecto a la variable 'min_diff'\n",
    "df4 = df3[df3['min_diff']<=0]\n",
    "#filtro de dataframe mayor a 0 con respecto a la variable 'min_diff'\n",
    "df5 = df3[df3['min_diff']>0]\n",
    "\n",
    "#Composición estadistica menor o igual a 0 con respecto a la variable 'min_diff\n",
    "df4['min_diff'].describe()\n"
   ]
  },
  {
   "cell_type": "code",
   "execution_count": null,
   "id": "3b74d212-15a0-4f7a-b8c8-dd4c481531df",
   "metadata": {
    "tags": []
   },
   "outputs": [],
   "source": [
    "#Composición estadistica con respecto a la variable 'min_diff\n",
    "df3['min_diff'].describe()"
   ]
  },
  {
   "cell_type": "code",
   "execution_count": null,
   "id": "dbe12b25-d707-47ef-884a-4dcc2ee235aa",
   "metadata": {
    "tags": []
   },
   "outputs": [],
   "source": [
    "#Composición estadistica mayor a 0 con respecto a la variable 'min_diff'\n",
    "df5['min_diff'].describe()"
   ]
  },
  {
   "cell_type": "code",
   "execution_count": null,
   "id": "bf989b12-7bec-4cc9-b81a-e81836704b1e",
   "metadata": {
    "tags": []
   },
   "outputs": [],
   "source": [
    "#graficamos los 3 estados de la variable, es decir, de iziquierda a derecha en los casos cuando es menor igual 0, la variable sin filtrar y cuando es mayor 0.\n",
    "dataframes = [df4,df3, df5]\n",
    "\n",
    "minutos_diff(dataframes,'min_diff')"
   ]
  },
  {
   "cell_type": "markdown",
   "id": "9eae03b6-da7b-4fb3-bafe-d88bebd53ec3",
   "metadata": {},
   "source": [
    "- Caso 'min_diff' <= 0:\n",
    "    - Podemos observar que la media es -3 minutos y con una desviación estandar de 3 minutos.\n",
    "    - La grafica presenta el 33% de la data, además se concentra entre -3 minutos y 0 minutos.\n",
    "- Caso 'min_diff' completo.\n",
    "    - Con el 100% de la data podemos observar que el 66% de la data está a la derecha de la linea verde, que representa 0 minutos. Además la media es de 9 minutos (linea roja).\n",
    "- Caso 'min_diff' > 0:\n",
    "    -Este caso concentra el 66% de la data y la media es de 15 minutos. En adición, el porcentaje de data que se encuentra a la derecha de la linea roja es del 18% con respecto al total lo que reafirma nuevamente que nuestra variable objetivo está desbalanceada.\n",
    "    "
   ]
  },
  {
   "cell_type": "code",
   "execution_count": null,
   "id": "4edee884-dfcc-45a3-88b7-525f5c2c7a0e",
   "metadata": {
    "tags": []
   },
   "outputs": [],
   "source": [
    "#Dado la información señalada previamente, se estudiarán las variables asociadas al punto 3 en una perspectiva de boxplot\n",
    "boxplot(df3,col,20,20,'min_diff','delay_15')"
   ]
  },
  {
   "cell_type": "markdown",
   "id": "2b94789f-1c4d-4c4e-9f81-783a3f1ec9d2",
   "metadata": {},
   "source": [
    "- Las graficas que se muestran seña"
   ]
  },
  {
   "cell_type": "code",
   "execution_count": null,
   "id": "8359239f-2374-4eed-9ca2-4b042d8d153b",
   "metadata": {},
   "outputs": [],
   "source": []
  },
  {
   "cell_type": "code",
   "execution_count": null,
   "id": "29a76bfb-ea8a-4937-bd7a-2d3b943b2f8d",
   "metadata": {},
   "outputs": [],
   "source": []
  }
 ],
 "metadata": {
  "kernelspec": {
   "display_name": "Python 3 (ipykernel)",
   "language": "python",
   "name": "python3"
  },
  "language_info": {
   "codemirror_mode": {
    "name": "ipython",
    "version": 3
   },
   "file_extension": ".py",
   "mimetype": "text/x-python",
   "name": "python",
   "nbconvert_exporter": "python",
   "pygments_lexer": "ipython3",
   "version": "3.11.4"
  }
 },
 "nbformat": 4,
 "nbformat_minor": 5
}
